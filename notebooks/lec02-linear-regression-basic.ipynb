{
 "cells": [
  {
   "cell_type": "markdown",
   "metadata": {
    "deletable": true,
    "editable": true
   },
   "source": [
    "# Lecture 2. Linear Regression의 Hypothesis 와 cost 설명\n",
    "---"
   ]
  },
  {
   "cell_type": "markdown",
   "metadata": {
    "deletable": true,
    "editable": true
   },
   "source": [
    "## Regression\n",
    "- feature X 와 target y ( data ) 를 training\n",
    "- new X 로 new y 를 예측"
   ]
  },
  {
   "cell_type": "markdown",
   "metadata": {
    "deletable": true,
    "editable": true
   },
   "source": [
    "## ( Linear ) Hypothesis\n",
    "- linear model 이 우리가 가진 데이터에 맞을 것이다 라고 가정하고 시작\n",
    "- 현실의 많은 것들이 실제 linear 한 패턴을 가지는 경우가 많음\n",
    "\n",
    "### Find best Line\n",
    "- data 를 가장 잘 표현해주는 최적의 Line 을 찾음 ( 1dim )\n",
    "\n",
    "$$H(x) = Wx + b$$\n",
    "\n"
   ]
  },
  {
   "cell_type": "markdown",
   "metadata": {
    "deletable": true,
    "editable": true
   },
   "source": [
    "## Which hypothesis is better ?\n",
    "- 우리가 세운 가설(직선) $H(x)$ 와 실제 data point 의 차이를 계산\n",
    "- **Cost function ( = Loss function )**\n",
    " - $H(x) - y$ : 양수, 음수로 나와 상쇄 문제 발생 ( x )\n",
    " - $(H(x)-y)^2$ : 제곱하여 양수로만 표현, 또한 거리가 멀수록 패널티 강함 ( o )"
   ]
  },
  {
   "cell_type": "markdown",
   "metadata": {
    "deletable": true,
    "editable": true
   },
   "source": [
    "## Cost function\n",
    "- How fit the line to our ( training ) data\n",
    "\n",
    "$$\n",
    "\\begin{align}\n",
    "cost &= \\frac{1}{m} \\sum^m_{i=1} ((H(x_i)-y_i)^2 \\\\\n",
    "&( H(x) = Wx + b \\quad 대입 )\\\\\n",
    "cost(W, b) &= \\frac{1}{m} \\sum^m_{i=1} ((H(x_i)-y_i)^2 \\\\\n",
    "&= \\frac{1}{m} \\sum^m_{i=1} ((Wx_i + b - y_i)^2\n",
    "\\end{align}\n",
    "$$\n"
   ]
  },
  {
   "cell_type": "markdown",
   "metadata": {
    "deletable": true,
    "editable": true
   },
   "source": [
    "## Goal : Min cost\n",
    "- cost 를 최소화하는 W, b 를 찾는 것이 최종 목표\n",
    "\n",
    "$$ \\underset{W, b}{min} ~ cost(W, b)$$"
   ]
  },
  {
   "cell_type": "markdown",
   "metadata": {},
   "source": [
    "# Lab 2. TensorFlow 를 활용한 Linear Regression\n",
    "---"
   ]
  },
  {
   "cell_type": "markdown",
   "metadata": {},
   "source": [
    "## Basic code\n",
    "1. Set variables : $W, b$ \n",
    "1. Set hypothesis : $H(x) = Wx + b$\n",
    "1. Set cost function : $cost = \\frac{1}{m} \\sum(wX+b - y)^2$\n",
    "1. Minimize cost function with GradientDescentOptimizer\n",
    "1. initialize all variables ( when you get started every algorithm, should do it first )\n",
    "1. find optimal $W, b$"
   ]
  },
  {
   "cell_type": "code",
   "execution_count": 1,
   "metadata": {
    "collapsed": true
   },
   "outputs": [],
   "source": [
    "import tensorflow as tf\n",
    "\n",
    "x_data = [1, 2, 3]\n",
    "y_data = [1, 2, 3]\n",
    "\n",
    "# Try to find values for W and b that compute y_data = W * x_data + b\n",
    "# ( We know that W should be 1 and b 0, but Tensorflow will\n",
    "# figure that out for us. )\n",
    "W = tf.Variable(tf.random_uniform([1], -1.0, 1.0))\n",
    "b = tf.Variable(tf.random_uniform([1], -1.0, 1.0))\n",
    "\n",
    "# Our hypothesis\n",
    "hypothesis = W * x_data + b"
   ]
  },
  {
   "cell_type": "code",
   "execution_count": 2,
   "metadata": {
    "collapsed": true
   },
   "outputs": [],
   "source": [
    "# Simplified cost function\n",
    "cost = tf.reduce_mean(tf.square(hypothesis - y_data))\n",
    "\n",
    "# Minimize\n",
    "a = tf.Variable(0.1) # Learning rate, alpha\n",
    "optimizer = tf.train.GradientDescentOptimizer(a)\n",
    "train = optimizer.minimize(cost)"
   ]
  },
  {
   "cell_type": "code",
   "execution_count": 3,
   "metadata": {
    "collapsed": false
   },
   "outputs": [
    {
     "name": "stdout",
     "output_type": "stream",
     "text": [
      "WARNING:tensorflow:From <ipython-input-3-4bc63d4d228a>:2 in <module>.: initialize_all_variables (from tensorflow.python.ops.variables) is deprecated and will be removed after 2017-03-02.\n",
      "Instructions for updating:\n",
      "Use `tf.global_variables_initializer` instead.\n"
     ]
    }
   ],
   "source": [
    "# Before starting, initialize the variables. We will 'run' this first.\n",
    "init = tf.initialize_all_variables()\n",
    "\n",
    "# Launch the graph.\n",
    "sess = tf.Session()\n",
    "sess.run(init)"
   ]
  },
  {
   "cell_type": "code",
   "execution_count": 4,
   "metadata": {
    "collapsed": false
   },
   "outputs": [
    {
     "name": "stdout",
     "output_type": "stream",
     "text": [
      "0 0.384598 [ 0.56229913] [ 1.38223147]\n",
      "20 0.0943617 [ 0.64322555] [ 0.81103218]\n",
      "40 0.0356524 [ 0.78069919] [ 0.49852225]\n",
      "60 0.0134704 [ 0.865201] [ 0.30642983]\n",
      "80 0.0050895 [ 0.91714227] [ 0.18835521]\n",
      "100 0.00192294 [ 0.94906932] [ 0.11577747]\n",
      "120 0.000726539 [ 0.96869421] [ 0.07116561]\n",
      "140 0.000274505 [ 0.98075706] [ 0.0437438]\n",
      "160 0.000103715 [ 0.98817182] [ 0.0268883]\n",
      "180 3.91862e-05 [ 0.99272949] [ 0.01652755]\n",
      "200 1.48063e-05 [ 0.99553096] [ 0.01015908]\n",
      "220 5.59392e-06 [ 0.99725294] [ 0.00624455]\n",
      "240 2.11365e-06 [ 0.99831152] [ 0.00383841]\n",
      "260 7.98535e-07 [ 0.9989621] [ 0.00235933]\n",
      "280 3.01671e-07 [ 0.99936205] [ 0.00145023]\n",
      "300 1.14018e-07 [ 0.99960792] [ 0.00089143]\n",
      "320 4.30884e-08 [ 0.99975896] [ 0.00054795]\n",
      "340 1.62569e-08 [ 0.99985182] [ 0.0003368]\n",
      "360 6.15525e-09 [ 0.99990886] [ 0.00020704]\n",
      "380 2.31915e-09 [ 0.99994403] [ 0.00012723]\n",
      "400 8.79732e-10 [ 0.99996555] [  7.81821000e-05]\n",
      "420 3.30469e-10 [ 0.99997884] [  4.81016250e-05]\n",
      "440 1.26102e-10 [ 0.99998695] [  2.95685550e-05]\n",
      "460 4.74832e-11 [ 0.99999201] [  1.82277763e-05]\n",
      "480 1.75457e-11 [ 0.99999505] [  1.11864802e-05]\n",
      "500 6.55594e-12 [ 0.99999696] [  6.90289426e-06]\n",
      "520 2.44427e-12 [ 0.99999815] [  4.26439510e-06]\n",
      "540 8.71599e-13 [ 0.99999887] [  2.59546550e-06]\n",
      "560 3.2685e-13 [ 0.99999928] [  1.60205491e-06]\n",
      "580 1.56319e-13 [ 0.99999958] [  9.98061751e-07]\n",
      "600 6.15804e-14 [ 0.99999964] [  7.11959672e-07]\n",
      "620 6.15804e-14 [ 0.99999976] [  5.84803161e-07]\n",
      "640 2.36848e-14 [ 0.99999982] [  3.30489968e-07]\n",
      "660 4.73695e-15 [ 0.99999994] [  1.55649602e-07]\n",
      "680 0.0 [ 1.] [  5.23348618e-08]\n",
      "700 0.0 [ 1.] [  5.23348618e-08]\n",
      "720 0.0 [ 1.] [  5.23348618e-08]\n",
      "740 0.0 [ 1.] [  5.23348618e-08]\n",
      "760 0.0 [ 1.] [  5.23348618e-08]\n",
      "780 0.0 [ 1.] [  5.23348618e-08]\n",
      "800 0.0 [ 1.] [  5.23348618e-08]\n",
      "820 0.0 [ 1.] [  5.23348618e-08]\n",
      "840 0.0 [ 1.] [  5.23348618e-08]\n",
      "860 0.0 [ 1.] [  5.23348618e-08]\n",
      "880 0.0 [ 1.] [  5.23348618e-08]\n",
      "900 0.0 [ 1.] [  5.23348618e-08]\n",
      "920 0.0 [ 1.] [  5.23348618e-08]\n",
      "940 0.0 [ 1.] [  5.23348618e-08]\n",
      "960 0.0 [ 1.] [  5.23348618e-08]\n",
      "980 0.0 [ 1.] [  5.23348618e-08]\n",
      "1000 0.0 [ 1.] [  5.23348618e-08]\n"
     ]
    }
   ],
   "source": [
    "# Fit the line.\n",
    "for step in range(1001):\n",
    "    sess.run(train)\n",
    "    if step % 20 ==0:\n",
    "        print(step, sess.run(cost), sess.run(W), sess.run(b))"
   ]
  },
  {
   "cell_type": "markdown",
   "metadata": {},
   "source": [
    "## Placeholder 를 활용한 code"
   ]
  },
  {
   "cell_type": "code",
   "execution_count": 5,
   "metadata": {
    "collapsed": false
   },
   "outputs": [
    {
     "name": "stdout",
     "output_type": "stream",
     "text": [
      "WARNING:tensorflow:From <ipython-input-5-cc0c1369861e>:19 in <module>.: initialize_all_variables (from tensorflow.python.ops.variables) is deprecated and will be removed after 2017-03-02.\n",
      "Instructions for updating:\n",
      "Use `tf.global_variables_initializer` instead.\n",
      "0 0.295487 [ 1.18227124] [ 0.15827519]\n",
      "20 0.000232056 [ 0.98230743] [ 0.04021941]\n",
      "40 8.76763e-05 [ 0.98912477] [ 0.02472189]\n",
      "60 3.31258e-05 [ 0.99331534] [ 0.01519597]\n",
      "80 1.25164e-05 [ 0.99589103] [ 0.00934056]\n",
      "100 4.72892e-06 [ 0.99747431] [ 0.00574146]\n",
      "120 1.78657e-06 [ 0.99844754] [ 0.00352913]\n",
      "140 6.75079e-07 [ 0.99904573] [ 0.00216927]\n",
      "160 2.55016e-07 [ 0.99941349] [ 0.0013334]\n",
      "180 9.6367e-08 [ 0.99963945] [ 0.00081959]\n",
      "200 3.63952e-08 [ 0.99977839] [ 0.00050376]\n",
      "220 1.37526e-08 [ 0.99986374] [ 0.00030965]\n",
      "240 5.20233e-09 [ 0.99991626] [ 0.00019033]\n",
      "260 1.96072e-09 [ 0.9999485] [ 0.00011696]\n",
      "280 7.40348e-10 [ 0.99996835] [  7.18898154e-05]\n",
      "300 2.80068e-10 [ 0.99998057] [  4.41776283e-05]\n",
      "320 1.05544e-10 [ 0.99998802] [  2.71624849e-05]\n",
      "340 4.00557e-11 [ 0.99999261] [  1.66720656e-05]\n",
      "360 1.51014e-11 [ 0.99999547] [  1.02506574e-05]\n",
      "380 5.64645e-12 [ 0.99999726] [  6.30085788e-06]\n",
      "400 2.29268e-12 [ 0.99999827] [  3.87693581e-06]\n",
      "420 9.28443e-13 [ 0.99999899] [  2.40668851e-06]\n",
      "440 3.2685e-13 [ 0.99999934] [  1.47685637e-06]\n",
      "460 9.4739e-14 [ 0.99999958] [  8.88757711e-07]\n",
      "480 6.15804e-14 [ 0.99999964] [  6.82128473e-07]\n",
      "500 6.15804e-14 [ 0.99999976] [  5.54971962e-07]\n",
      "520 3.78956e-14 [ 0.99999994] [  3.08606019e-07]\n",
      "540 4.73695e-15 [ 0.99999994] [  1.25818346e-07]\n",
      "560 0.0 [ 1.] [  5.42927765e-08]\n",
      "580 0.0 [ 1.] [  5.42927765e-08]\n",
      "600 0.0 [ 1.] [  5.42927765e-08]\n",
      "620 0.0 [ 1.] [  5.42927765e-08]\n",
      "640 0.0 [ 1.] [  5.42927765e-08]\n",
      "660 0.0 [ 1.] [  5.42927765e-08]\n",
      "680 0.0 [ 1.] [  5.42927765e-08]\n",
      "700 0.0 [ 1.] [  5.42927765e-08]\n",
      "720 0.0 [ 1.] [  5.42927765e-08]\n",
      "740 0.0 [ 1.] [  5.42927765e-08]\n",
      "760 0.0 [ 1.] [  5.42927765e-08]\n",
      "780 0.0 [ 1.] [  5.42927765e-08]\n",
      "800 0.0 [ 1.] [  5.42927765e-08]\n",
      "820 0.0 [ 1.] [  5.42927765e-08]\n",
      "840 0.0 [ 1.] [  5.42927765e-08]\n",
      "860 0.0 [ 1.] [  5.42927765e-08]\n",
      "880 0.0 [ 1.] [  5.42927765e-08]\n",
      "900 0.0 [ 1.] [  5.42927765e-08]\n",
      "920 0.0 [ 1.] [  5.42927765e-08]\n",
      "940 0.0 [ 1.] [  5.42927765e-08]\n",
      "960 0.0 [ 1.] [  5.42927765e-08]\n",
      "980 0.0 [ 1.] [  5.42927765e-08]\n",
      "1000 0.0 [ 1.] [  5.42927765e-08]\n"
     ]
    }
   ],
   "source": [
    "W = tf.Variable(tf.random_uniform([1], -1.0, 1.0))\n",
    "b = tf.Variable(tf.random_uniform([1], -1.0, 1.0))\n",
    "\n",
    "X = tf.placeholder(tf.float32)\n",
    "y = tf.placeholder(tf.float32)\n",
    "\n",
    "# hypothesis\n",
    "hypothesis = W * X + b\n",
    "\n",
    "# Simplified cost function\n",
    "cost = tf.reduce_mean(tf.square(hypothesis - y))\n",
    "\n",
    "# Minimize\n",
    "a = tf.Variable(0.1)\n",
    "optimizer = tf.train.GradientDescentOptimizer(a)\n",
    "train = optimizer.minimize(cost)\n",
    "\n",
    "# before starting, initialize the variables.\n",
    "init = tf.initialize_all_variables()\n",
    "\n",
    "# Launch the graph.\n",
    "sess = tf.Session()\n",
    "sess.run(init)\n",
    "\n",
    "# Fit the line.\n",
    "for step in range(1001):\n",
    "    sess.run(train, feed_dict={X: x_data, y:y_data})\n",
    "    if step % 20 == 0:\n",
    "        print(step, sess.run(cost, feed_dict={X:x_data, y:y_data}), sess.run(W), sess.run(b))"
   ]
  },
  {
   "cell_type": "code",
   "execution_count": 6,
   "metadata": {
    "collapsed": false
   },
   "outputs": [
    {
     "name": "stdout",
     "output_type": "stream",
     "text": [
      "[ 5.]\n",
      "[ 2.5]\n"
     ]
    }
   ],
   "source": [
    "# Predict\n",
    "print(sess.run(hypothesis, feed_dict={X: 5}))\n",
    "print(sess.run(hypothesis, feed_dict={X: 2.5}))"
   ]
  }
 ],
 "metadata": {
  "kernelspec": {
   "display_name": "Python 3",
   "language": "python",
   "name": "python3"
  },
  "language_info": {
   "codemirror_mode": {
    "name": "ipython",
    "version": 3
   },
   "file_extension": ".py",
   "mimetype": "text/x-python",
   "name": "python",
   "nbconvert_exporter": "python",
   "pygments_lexer": "ipython3",
   "version": "3.5.1"
  }
 },
 "nbformat": 4,
 "nbformat_minor": 2
}
