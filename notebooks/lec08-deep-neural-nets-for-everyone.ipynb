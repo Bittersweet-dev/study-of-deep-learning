{
 "cells": [
  {
   "cell_type": "markdown",
   "metadata": {
    "deletable": true,
    "editable": true
   },
   "source": [
    "# Lecture 8. Deep Neural Nets for Everyone\n",
    "\n",
    "- 딥러닝의 기본 개념: 시작과 XOR 문제\n",
    "- 딥러닝의 기본 개념2: Back-propagation 과 2006/2007 '딥'의 출현\n",
    "---"
   ]
  },
  {
   "cell_type": "markdown",
   "metadata": {
    "deletable": true,
    "editable": true
   },
   "source": [
    "## Ultimate dream: thinking machine\n",
    "- $\\sum w_i x_i + b$ : weight 곱을 다 합하고, bias 를 더함\n",
    "- 이 값이 activation function 을 통과하면서 1 or 0 을 출력함\n",
    "\n",
    "![](./img/08-deep-neural-nets-01.png)\n",
    "![](./img/08-deep-neural-nets-02.png)"
   ]
  },
  {
   "cell_type": "markdown",
   "metadata": {
    "deletable": true,
    "editable": true
   },
   "source": [
    "## XOR problem\n",
    "- 당시에 XOR 문제를 풀기 어려웠음\n",
    "![](./img/08-deep-neural-nets-03.png)"
   ]
  },
  {
   "cell_type": "markdown",
   "metadata": {
    "deletable": true,
    "editable": true
   },
   "source": [
    "## Perceptrons\n",
    "- by Marvin Minsky, founder of the MIT AI Lab\n",
    "- 레이어를 두개 이상 쌓아 XOR 문제를 해결 ( MLP )\n",
    "- 그러나 레이어가 늘어남에 따른 수많은 weight 과 bias 를 학습시키는 것은 불가능하다 발표\n",
    " - **\"No one on earth had found a viable way to train\", Marvin Minsky, 1969**\n",
    "- 이 발표로 인해 약 20년 동안 AI 분야가 발전하지 못함\n",
    "\n",
    "![](./img/08-deep-neural-nets-04.png)\n",
    "![](./img/08-deep-neural-nets-05.png)"
   ]
  },
  {
   "cell_type": "markdown",
   "metadata": {
    "deletable": true,
    "editable": true
   },
   "source": [
    "## Backpropagation\n",
    "- Backpropagation 처음 제시, 1974, 1982 by Paul Werbos\n",
    "- **Backpropagation 이 나오면서 다시 주목받기 시작, 1986 by Hinton**\n",
    "- Re-discovery\n",
    "\n",
    "![](./img/08-deep-neural-nets-06.png)"
   ]
  },
  {
   "cell_type": "markdown",
   "metadata": {
    "deletable": true,
    "editable": true
   },
   "source": [
    "## Convolutional Neural Networks\n",
    "- LeNet-5 1980, by Lecun\n",
    "- 고양이 시신경을 분석해보니, 특정 filter 역할을 하는 여러개의 시신경들이 모여 판단을 내림\n",
    "- 이를 본따 만든 Neural Nets\n",
    "\n",
    "![](./img/08-deep-neural-nets-07.png)\n",
    "![](./img/08-deep-neural-nets-08.png)"
   ]
  },
  {
   "cell_type": "markdown",
   "metadata": {
    "deletable": true,
    "editable": true
   },
   "source": [
    "## A BIG problem\n",
    "- Backpropagation 은 레이어가 최소 10여개 이상이 될 수록 학습이 불가능해짐\n",
    "- Error 가 처음 레이어까지 전달이 안되고 소멸됨\n",
    "- 상대적으로 더 단순한 알고리즘인 SVM, RandomForest 등이 더 성능이 좋음\n",
    "- 이로인해 Neural Nets 은 2번째 침체기를 겪게 됨\n",
    "![](./img/08-deep-neural-nets-09.png)"
   ]
  },
  {
   "cell_type": "markdown",
   "metadata": {
    "deletable": true,
    "editable": true
   },
   "source": [
    "## CIFAR\n",
    "- Canadian Institute for Advanced Research ( CIFAR )\n",
    "- CIFAR encourages basic research without direct application, was what motivated Hinton to move to Canada in 1987, and funded his work afterward.\n",
    "- 2번째 침체기를 겪고 Neural Nets 이 비난 받던 시절에 유일하게 지속적으로 투자했던 단체\n",
    "- 이때문에 딥러닝을 주도하고 있는 몬트리올 대학, 토론토 대학 등 캐다나에 많음"
   ]
  },
  {
   "cell_type": "markdown",
   "metadata": {
    "deletable": true,
    "editable": true
   },
   "source": [
    "## Breakthrough\n",
    "- **in 2006 and 2007 by Hinton and Bengio**\n",
    "\n",
    "- Neural networks with many layer really could be trained well, **if the weights are initialized in a clever way** rather than randomly.\n",
    "- Deep machine learning methods are more efficient for difficult problems than shallow methods.\n",
    "- Rebranding to **Deep Nets, Deep Learning**\n",
    "\n",
    "- weights 초기값을 잘 부여하면 성능이 좋다, 그리고 딥러닝으로 리브랜딩 하면서 다시 주목받기 시작"
   ]
  },
  {
   "cell_type": "markdown",
   "metadata": {
    "deletable": true,
    "editable": true
   },
   "source": [
    "## ImageNet Competition\n",
    "- The Image Classification Challenge: 1,000 object classes 1,431,167 imgaes.\n",
    "- 2012 년도에 급격히 성능 좋아짐, by Hinton 교수 밑의 Alex 라는 학부생이 만듦 ( AlexNet )\n",
    "- 2015 년도에는 사람보다 더 성능이 좋게 됨\n",
    "\n",
    "![](./img/08-deep-neural-nets-10.png)"
   ]
  },
  {
   "cell_type": "markdown",
   "metadata": {
    "deletable": true,
    "editable": true
   },
   "source": [
    "## Geoffrey Hinton's summary of findings up to today\n",
    "- Our labeled datasets were thousands of times too small.\n",
    "- Our computers were millions of times too slow.\n",
    "- We initialized the weights in a stupid way.\n",
    "- We used the wrong type of non-linearity."
   ]
  },
  {
   "cell_type": "markdown",
   "metadata": {
    "deletable": true,
    "editable": true
   },
   "source": [
    "## Why Now ?\n",
    "- Students / Researchers\n",
    " - Not too late to be a world expert\n",
    " - Not too complicated ( mathematically )\n",
    "- Practitioner\n",
    " - Accurate enough to be used in practice\n",
    " - Many ready-to-use tools such as TensorFlow\n",
    " - Many easy / simple programming languages such as Python\n",
    "- **After all, it is fun !**"
   ]
  }
 ],
 "metadata": {
  "kernelspec": {
   "display_name": "Python 3",
   "language": "python",
   "name": "python3"
  },
  "language_info": {
   "codemirror_mode": {
    "name": "ipython",
    "version": 3
   },
   "file_extension": ".py",
   "mimetype": "text/x-python",
   "name": "python",
   "nbconvert_exporter": "python",
   "pygments_lexer": "ipython3",
   "version": "3.5.1"
  }
 },
 "nbformat": 4,
 "nbformat_minor": 2
}
