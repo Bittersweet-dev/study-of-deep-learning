{
 "cells": [
  {
   "cell_type": "markdown",
   "metadata": {
    "deletable": true,
    "editable": true
   },
   "source": [
    "# Lecture 11-1. ConvNet 의 Conv 레이어 만들기\n",
    "- History\n",
    "- Preview\n",
    "- How it works\n",
    " - Filter\n",
    " - Padding\n",
    " - Output Size\n",
    " - Swiping\n",
    "---"
   ]
  },
  {
   "cell_type": "markdown",
   "metadata": {
    "deletable": true,
    "editable": true
   },
   "source": [
    "## History\n",
    "- 고양이에게 그림을 보여주는 실험\n",
    "- 그림을 인식하는 시신경 속 뉴런들이 전부 다 동작하는 것이 아니라 어떤 형태의 그림 부분에서만 반응한다는 것을 알게됨\n",
    "- 해당 형태만 바라보는 뉴런들이 각각 따로 존재\n",
    "\n",
    "![](./img/11-conv-01.png)"
   ]
  },
  {
   "cell_type": "markdown",
   "metadata": {
    "deletable": true,
    "editable": true
   },
   "source": [
    "## Preview\n",
    "- 하나의 이미지를 바둑판 형태로 잘라 각각 input -> Conv NN\n",
    "- ReLu 층을 넣음\n",
    "- Conv & ReLu 반복\n",
    "- Pooling\n",
    "- 마지막으로 Fully Connected NN 으로 구성하여 Labeling 을 하여 10개의 Softmax Classifier 를 붙일 수 있음\n",
    "\n",
    "![](./img/11-conv-02.png)"
   ]
  },
  {
   "cell_type": "markdown",
   "metadata": {
    "deletable": true,
    "editable": true
   },
   "source": [
    "## How it works ( 32x32x3 image )\n",
    "- 이미지의 일부분만 처리\n",
    "\n",
    "### Filter\n",
    "- 이미지를 쪼개어 입력할 때 ( ex. 5x5 matrix ) 하나의 값 ( scalar )으로 만들어 줌\n",
    "- 하나의 값으로 만들 때 $Wx+b$ 를 사용\n",
    "- 여기에 ReLu 를 적용 $ReLu(Wx+b)$\n",
    "- 똑같은 Filter ( W: weigth ) 로 이미지를 전체적으로 훑음\n",
    "\n",
    "![](./img/11-conv-03.png)\n"
   ]
  },
  {
   "cell_type": "markdown",
   "metadata": {
    "deletable": true,
    "editable": true
   },
   "source": [
    "### Output Size ?\n",
    "- 전체 이미지 ( input ) 를 Filter 가 훑은 뒤 ouput 의 크기는?\n",
    "- Stride : 훑고 가는 스텝의 크기 ( 몇 칸씩 움직이는가? )\n",
    "\n",
    "![](./img/11-conv-04.png)"
   ]
  },
  {
   "cell_type": "markdown",
   "metadata": {
    "deletable": true,
    "editable": true
   },
   "source": [
    "## Padding\n",
    "- 계속 Filter 를 계속 적용하게 되면 자꾸 이미지가 작아진다 ( = 정보가 손실된다 )\n",
    "- 이를 해결하기 위한 방법\n",
    " - 모서리를 지정해주는 장점\n",
    " - input 과 output 사이즈가 같게 해주는 장점\n",
    "\n",
    "![](./img/11-conv-05.png)\n",
    "\n",
    "- 1 pad 를 하면 7x7 -> 9x9 가 됨\n",
    "- 여기에 3x3 filter 적용하면 output 이 다시 7x7 이 됨"
   ]
  },
  {
   "cell_type": "markdown",
   "metadata": {
    "deletable": true,
    "editable": true
   },
   "source": [
    "## Swiping the entire image\n",
    "- 각각 weight 이 다른 Filter 1, Filter 2, ... Filter $n$\n",
    "- activation maps 의 depth 는 $n$\n",
    "\n",
    "![](./img/11-conv-06.png)"
   ]
  },
  {
   "cell_type": "markdown",
   "metadata": {
    "deletable": true,
    "editable": true
   },
   "source": [
    "### 반복\n",
    "- input : 32x32x3 image\n",
    "- 5x5x3 filter 6개로 swiping\n",
    "- ouput : 28x28x6 -> input\n",
    "- 5x5x6 filter 10개로 swiping\n",
    "- ouput : 24x24x10 ...\n",
    "\n",
    "![](./img/11-conv-07.png)\n",
    "\n",
    "- 여기서 weight 의 갯수는 5x5x3x6, 5x5x6x10 임"
   ]
  }
 ],
 "metadata": {
  "kernelspec": {
   "display_name": "Python 3",
   "language": "python",
   "name": "python3"
  },
  "language_info": {
   "codemirror_mode": {
    "name": "ipython",
    "version": 3
   },
   "file_extension": ".py",
   "mimetype": "text/x-python",
   "name": "python",
   "nbconvert_exporter": "python",
   "pygments_lexer": "ipython3",
   "version": "3.5.1"
  }
 },
 "nbformat": 4,
 "nbformat_minor": 2
}
