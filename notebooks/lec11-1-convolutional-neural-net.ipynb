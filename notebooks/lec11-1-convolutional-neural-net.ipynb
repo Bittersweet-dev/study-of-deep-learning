{
 "cells": [
  {
   "cell_type": "markdown",
   "metadata": {
    "deletable": true,
    "editable": true
   },
   "source": [
    "# Lecture 11-1. ConvNet 의 Conv 레이어 만들기\n",
    "---"
   ]
  },
  {
   "cell_type": "markdown",
   "metadata": {
    "deletable": true,
    "editable": true
   },
   "source": [
    "- 고양이에게 그림을 보여줬더니, 그림을 인식하는 시신경 속 뉴런들이 전부 다 동작하는 것이 아니라 어떤 형태의 그림 부분에서만 반응한다는 것을 알게 됨.\n",
    "- 해당 형태만 바라보는 뉴런들이 각각 따로 존재."
   ]
  },
  {
   "cell_type": "markdown",
   "metadata": {
    "deletable": true,
    "editable": true
   },
   "source": [
    "- 하나의 이미지를 잘라 각각 input -> Conv NN\n",
    "- ReLu 층을 넣음\n",
    "- 반복 가능\n",
    "- Pooling\n",
    "- 마지막으로 Fully Connected NN 으로 구성하여 labeling 을 하는 10개의 softmax classifier 를 붙임"
   ]
  },
  {
   "cell_type": "markdown",
   "metadata": {
    "deletable": true,
    "editable": true
   },
   "source": [
    "- 32x32x3 image ( 3 = rgb ) 을 예로 작동 원리 설명"
   ]
  },
  {
   "cell_type": "markdown",
   "metadata": {
    "deletable": true,
    "editable": true
   },
   "source": [
    "- output size 계산하기"
   ]
  },
  {
   "cell_type": "markdown",
   "metadata": {
    "deletable": true,
    "editable": true
   },
   "source": [
    "- 패딩\n",
    " - 모서리를 지정해주는 장점\n",
    " - input 과 output 사이즈가 같게 해주는 장점"
   ]
  },
  {
   "cell_type": "markdown",
   "metadata": {
    "deletable": true,
    "editable": true
   },
   "source": [
    "- Swiping the entire image"
   ]
  }
 ],
 "metadata": {
  "kernelspec": {
   "display_name": "Python 3",
   "language": "python",
   "name": "python3"
  },
  "language_info": {
   "codemirror_mode": {
    "name": "ipython",
    "version": 3
   },
   "file_extension": ".py",
   "mimetype": "text/x-python",
   "name": "python",
   "nbconvert_exporter": "python",
   "pygments_lexer": "ipython3",
   "version": "3.5.1"
  }
 },
 "nbformat": 4,
 "nbformat_minor": 2
}
