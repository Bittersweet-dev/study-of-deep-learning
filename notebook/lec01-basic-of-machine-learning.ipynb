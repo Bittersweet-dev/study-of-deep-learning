{
 "cells": [
  {
   "cell_type": "markdown",
   "metadata": {
    "deletable": true,
    "editable": true
   },
   "source": [
    "# Lecture 01. Machine Learning 의 용어와 개념 설명\n",
    "---"
   ]
  },
  {
   "cell_type": "markdown",
   "metadata": {
    "deletable": true,
    "editable": true
   },
   "source": [
    "## Machine Learning\n",
    "- Limitations of explicit programming\n",
    " - Spam filter : many rules\n",
    " - Automatic driving : too many rules\n",
    " \n",
    "- **Machine learning**\n",
    " - **\" Field of study that gives computers the ability to learn without being explicitly programmed \" - Arthur Samuel ( 1959 )**"
   ]
  },
  {
   "cell_type": "markdown",
   "metadata": {
    "deletable": true,
    "editable": true
   },
   "source": [
    "## Supervised / Unsupervised learning\n",
    "- Supervised learning ( 지도학습 )\n",
    " - 정답지 ( label ) 를 주고, 학습시키는 방법\n",
    " - Regression, Classification\n",
    "- Unsupervised learning ( 비지도학습 )\n",
    " - 정답지 ( label ) 없이, 학습시키는 방법\n",
    " - Clustering"
   ]
  },
  {
   "cell_type": "markdown",
   "metadata": {
    "deletable": true,
    "editable": true
   },
   "source": [
    "## Supervised learning\n",
    "Mose common problem type in ML\n",
    "\n",
    "- feature X 와 target y 가 존재 ( training data )\n",
    "- training data 를 학습시켜 new data 넣었을 때 y 값을 예측\n",
    "\n",
    "### Regression VS Classification\n",
    "- Regression ( 회귀 )\n",
    " - 예측하고자 하는 target y 가 real value !\n",
    "- Classification ( 분류 )\n",
    " - 예측하고자 하는 target y 가 categorical value !\n",
    " - if) y 의 label 이 2개이면 (ex. true, false ) = binary classification\n",
    " - if) y 의 label 이 2개 이상 이면 ( A, B, C, D, ... ) = multi-label classification\n",
    " \n",
    "<br />\n",
    "Q. What is defferece between multi-label classification and multi-class classification ?\n",
    "\n",
    "- **Multiclass classification** means a classification task with more than two classes; e.g., classify a set of images of fruits which may be oranges, apples, or pears. Multiclass classification makes the assumption that each sample is assigned to one and only one label: a fruit can be either an apple or a pear but not both at the same time.\n",
    "\n",
    "\n",
    "- **Multilabel classification** assigns to each sample a set of target labels. This can be thought as predicting properties of a data-point that are not mutually exclusive, such as topics that are relevant for a document. A text might be about any of religion, politics, finance or education at the same time or none of these.\n",
    "\n",
    "(https://www.quora.com/What-is-the-difference-between-multilabel-and-multiclass-classification)"
   ]
  }
 ],
 "metadata": {
  "kernelspec": {
   "display_name": "Python 3",
   "language": "python",
   "name": "python3"
  },
  "language_info": {
   "codemirror_mode": {
    "name": "ipython",
    "version": 3
   },
   "file_extension": ".py",
   "mimetype": "text/x-python",
   "name": "python",
   "nbconvert_exporter": "python",
   "pygments_lexer": "ipython3",
   "version": "3.5.1"
  }
 },
 "nbformat": 4,
 "nbformat_minor": 2
}
