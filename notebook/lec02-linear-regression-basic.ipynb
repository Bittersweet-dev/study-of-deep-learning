{
 "cells": [
  {
   "cell_type": "markdown",
   "metadata": {
    "deletable": true,
    "editable": true
   },
   "source": [
    "# Lecture 02. Linear Regression의 Hypothesis 와 cost 설명\n",
    "---"
   ]
  },
  {
   "cell_type": "markdown",
   "metadata": {
    "deletable": true,
    "editable": true
   },
   "source": [
    "## Regression\n",
    "- feature X 와 target y ( data ) 를 training\n",
    "- new X 로 new y 를 예측"
   ]
  },
  {
   "cell_type": "markdown",
   "metadata": {
    "deletable": true,
    "editable": true
   },
   "source": [
    "## ( Linear ) Hypothesis\n",
    "- linear model 이 우리가 가진 데이터에 맞을 것이다 라고 가정하고 시작\n",
    "- 현실의 많은 것들이 실제 linear 한 패턴을 가지는 경우가 많음\n",
    "\n",
    "### Find best Line\n",
    "- data 를 가장 잘 표현해주는 최적의 Line 을 찾음 ( 1dim )\n",
    "\n",
    "$$H(x) = Wx + b$$\n",
    "\n"
   ]
  },
  {
   "cell_type": "markdown",
   "metadata": {
    "deletable": true,
    "editable": true
   },
   "source": [
    "## Which hypothesis is better ?\n",
    "- 우리가 세운 가설(직선) $H(x)$ 와 실제 data point 의 차이를 계산\n",
    "- **Cost function ( = Loss function )**\n",
    " - $H(x) - y$ : 양수, 음수로 나와 상쇄 문제 발생 ( x )\n",
    " - $(H(x)-y)^2$ : 제곱하여 양수로만 표현, 또한 거리가 멀수록 패널티 강함 ( o )"
   ]
  },
  {
   "cell_type": "markdown",
   "metadata": {
    "deletable": true,
    "editable": true
   },
   "source": [
    "## Cost function\n",
    "- How fit the line to our ( training ) data\n",
    "\n",
    "$$\n",
    "\\begin{align}\n",
    "cost &= \\frac{1}{m} \\sum^m_{i=1} ((H(x_i)-y_i)^2 \\\\\n",
    "&( H(x) = Wx + b \\quad 대입 )\\\\\n",
    "cost(W, b) &= \\frac{1}{m} \\sum^m_{i=1} ((H(x_i)-y_i)^2 \\\\\n",
    "&= \\frac{1}{m} \\sum^m_{i=1} ((Wx_i + b - y_i)^2\n",
    "\\end{align}\n",
    "$$\n"
   ]
  },
  {
   "cell_type": "markdown",
   "metadata": {
    "deletable": true,
    "editable": true
   },
   "source": [
    "## Goal : Min cost\n",
    "- cost 를 최소화하는 W, b 를 찾는 것이 최종 목표\n",
    "\n",
    "$$ \\underset{W, b}{min} ~ cost(W, b)$$"
   ]
  }
 ],
 "metadata": {
  "kernelspec": {
   "display_name": "Python 3",
   "language": "python",
   "name": "python3"
  },
  "language_info": {
   "codemirror_mode": {
    "name": "ipython",
    "version": 3
   },
   "file_extension": ".py",
   "mimetype": "text/x-python",
   "name": "python",
   "nbconvert_exporter": "python",
   "pygments_lexer": "ipython3",
   "version": "3.5.1"
  }
 },
 "nbformat": 4,
 "nbformat_minor": 2
}
