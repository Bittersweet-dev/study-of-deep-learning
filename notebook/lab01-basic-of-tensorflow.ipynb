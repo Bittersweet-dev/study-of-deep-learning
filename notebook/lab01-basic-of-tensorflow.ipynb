{
 "cells": [
  {
   "cell_type": "markdown",
   "metadata": {},
   "source": [
    "# Lab 01. TensorFlow 소개 및 설치\n",
    "---"
   ]
  },
  {
   "cell_type": "markdown",
   "metadata": {},
   "source": [
    "## TensorFlow\n",
    "TensorFlow is an open source software library for **numerical computation using data flow graphs.**"
   ]
  },
  {
   "cell_type": "markdown",
   "metadata": {},
   "source": [
    "## What is a Data Flow Graph ?\n",
    "- **Nodes** in the graph represent mathematical operations\n",
    "- **Edges** represent the multidimensional data arrays ( tensor ) communicated between them."
   ]
  },
  {
   "cell_type": "markdown",
   "metadata": {},
   "source": [
    "## Installation\n",
    "- https://www.tensorflow.org/get_started/os_setup\n",
    "\n",
    "### Requirements\n",
    "- Python 3.5.1\n",
    "- pip\n",
    "- pyenv\n",
    "- virtualenv\n",
    "- autoenv\n",
    "\n",
    "### Virtualenv installation\n",
    "\n",
    "#### Install python 3.5.1:\n",
    "```\n",
    "$ brew update\n",
    "$ brew upgrade\n",
    "$ pyenv install 3.5.1\n",
    "```\n",
    "\n",
    "#### Create a Virtualenv environment in the directory:\n",
    "```\n",
    "$ pyenv virtualenv 3.5.1 learntf\n",
    "```\n",
    "\n",
    "#### Create autoenv:\n",
    "```\n",
    "$ touch .env\n",
    "$ vi .env\n",
    "\n",
    "# /.env\n",
    "echo \"=====================\"\n",
    "echo \"TensorFlow Playground\"\n",
    "echo \" Activate virtualenv \"\n",
    "echo \"=====================\"\n",
    "\n",
    "pyenv activate learntf\n",
    "\n",
    "$ cd ./.\n",
    "```\n",
    "\n",
    "#### Install TensorFlow:\n",
    "```\n",
    "# Mac OS X, CPU only, Python 3.4 or 3.5:\n",
    "(learntf)$ export TF_BINARY_URL=https://storage.googleapis.com/tensorflow/mac/cpu/tensorflow-0.12.1-py3-none-any.whl\n",
    "\n",
    "$ pip instsall --upgrade pip\n",
    "\n",
    "(learntf)$ pip install --upgrade $TF_BINARY_URL\n",
    "```\n",
    "\n",
    "#### Test your installation:\n",
    "```\n",
    "$ python\n",
    "...\n",
    ">>> import tensorflow as tf\n",
    ">>> hello = tf.constant('Hello, TensorFlow!')\n",
    ">>> sess = tf.Session()\n",
    ">>> print(sess.run(hello))\n",
    "Hello, TensorFlow!\n",
    ">>> a = tf.constant(10)\n",
    ">>> b = tf.constant(32)\n",
    ">>> print(sess.run(a + b))\n",
    "42\n",
    ">>>\n",
    "```\n",
    "\n",
    "#### Deactivate the environment.\n",
    "`$ pyenvv deactivate`"
   ]
  },
  {
   "cell_type": "markdown",
   "metadata": {},
   "source": [
    "## Hello World !"
   ]
  },
  {
   "cell_type": "code",
   "execution_count": 3,
   "metadata": {
    "collapsed": false
   },
   "outputs": [
    {
     "name": "stdout",
     "output_type": "stream",
     "text": [
      "Tensor(\"Const_1:0\", shape=(), dtype=string)\n",
      "b'Hello, TensorFlow!'\n"
     ]
    }
   ],
   "source": [
    "import tensorflow as tf\n",
    "\n",
    "# SImple hello world using TensorFlow\n",
    "\n",
    "# Create a Constant op\n",
    "# The op is added as a node to the default graph.\n",
    "#\n",
    "# The value returned by the constructor represents the output\n",
    "# of the Constant op.\n",
    "hello = tf.constant('Hello, TensorFlow!')\n",
    "\n",
    "# Start tf session\n",
    "sess = tf.Session()\n",
    "\n",
    "print(hello)\n",
    "print(sess.run(hello))"
   ]
  },
  {
   "cell_type": "markdown",
   "metadata": {},
   "source": [
    "## Everything is operation!"
   ]
  },
  {
   "cell_type": "code",
   "execution_count": 4,
   "metadata": {
    "collapsed": false
   },
   "outputs": [
    {
     "name": "stdout",
     "output_type": "stream",
     "text": [
      "Tensor(\"add:0\", shape=(), dtype=int32)\n",
      "5\n"
     ]
    }
   ],
   "source": [
    "import tensorflow as tf\n",
    "\n",
    "# Start tf session\n",
    "sess = tf.Session()\n",
    "\n",
    "# Basic constant operation\n",
    "# The value returned by the constructor represents the output\n",
    "# of the Constant op.\n",
    "a = tf.constant(2)\n",
    "b = tf.constant(3)\n",
    "\n",
    "c = a + b\n",
    "\n",
    "# Print out operation\n",
    "print(c)\n",
    "\n",
    "# Print out the result of operation\n",
    "print(sess.run(c))"
   ]
  },
  {
   "cell_type": "markdown",
   "metadata": {},
   "source": [
    "## Basic operations"
   ]
  },
  {
   "cell_type": "code",
   "execution_count": 14,
   "metadata": {
    "collapsed": false
   },
   "outputs": [
    {
     "name": "stdout",
     "output_type": "stream",
     "text": [
      "a=2, b=3\n",
      "Addition with constants: 5\n",
      "Multiplication with constants: 6\n"
     ]
    }
   ],
   "source": [
    "a = tf.constant(2)\n",
    "b = tf.constant(3)\n",
    "\n",
    "# Launch the default graph.\n",
    "with tf.Session() as sess:\n",
    "    print(\"a=2, b=3\")\n",
    "    print(\"Addition with constants: %i\" % sess.run(a+b))\n",
    "    print(\"Multiplication with constants: {}\".format(sess.run(a*b)))"
   ]
  },
  {
   "cell_type": "markdown",
   "metadata": {},
   "source": [
    "## Placeholder\n",
    "- 함수에서 파라미터의 개념이나 placeholder 로 미리 지정해줌\n",
    "- 실행하는 시점에서 파라미터의 값을 지정해줄 수 있음"
   ]
  },
  {
   "cell_type": "code",
   "execution_count": 15,
   "metadata": {
    "collapsed": false
   },
   "outputs": [
    {
     "name": "stdout",
     "output_type": "stream",
     "text": [
      "Addition with constants: 5\n",
      "Muliplication with constants: 30\n"
     ]
    }
   ],
   "source": [
    "# Basic Operation with variable as graph input\n",
    "# The value returned by the constructor represents the output\n",
    "# of the Variable op. ( define as input when running session )\n",
    "# tf Graph input\n",
    "a = tf.placeholder(tf.int16)\n",
    "b = tf.placeholder(tf.int16)\n",
    "\n",
    "# Define some operations\n",
    "add = tf.add(a, b)\n",
    "mul = tf.mul(a, b)\n",
    "\n",
    "# Launch the default graph.\n",
    "with tf.Session() as sess:\n",
    "    # Run every operations with variable input\n",
    "    print(\"Addition with constants: %i\" % sess.run(add, feed_dict={a: 2, b: 3}))\n",
    "    print(\"Muliplication with constants: {}\".format(sess.run(add, feed_dict={a: 10, b: 20})))"
   ]
  }
 ],
 "metadata": {
  "kernelspec": {
   "display_name": "Python 3",
   "language": "python",
   "name": "python3"
  },
  "language_info": {
   "codemirror_mode": {
    "name": "ipython",
    "version": 3
   },
   "file_extension": ".py",
   "mimetype": "text/x-python",
   "name": "python",
   "nbconvert_exporter": "python",
   "pygments_lexer": "ipython3",
   "version": "3.5.1"
  }
 },
 "nbformat": 4,
 "nbformat_minor": 2
}
