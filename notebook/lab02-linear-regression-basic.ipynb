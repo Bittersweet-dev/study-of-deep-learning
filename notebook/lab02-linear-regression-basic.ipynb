{
 "cells": [
  {
   "cell_type": "markdown",
   "metadata": {},
   "source": [
    "# Lab 02. TensorFlow 를 활용한 Linear Regression\n",
    "---"
   ]
  },
  {
   "cell_type": "markdown",
   "metadata": {},
   "source": [
    "## Basic code\n",
    "1. Set variables : $W, b$ \n",
    "1. Set hypothesis : $H(x) = Wx + b$\n",
    "1. Set cost function : $cost = \\frac{1}{m} \\sum(wX+b - y)^2$\n",
    "1. Minimize cost function with GradientDescentOptimizer\n",
    "1. initialize all variables ( when you get started every algorithm, should do it first )\n",
    "1. find optimal $W, b$"
   ]
  },
  {
   "cell_type": "code",
   "execution_count": 1,
   "metadata": {
    "collapsed": true
   },
   "outputs": [],
   "source": [
    "import tensorflow as tf\n",
    "\n",
    "x_data = [1, 2, 3]\n",
    "y_data = [1, 2, 3]\n",
    "\n",
    "# Try to find values for W and b that compute y_data = W * x_data + b\n",
    "# ( We know that W should be 1 and b 0, but Tensorflow will\n",
    "# figure that out for us. )\n",
    "W = tf.Variable(tf.random_uniform([1], -1.0, 1.0))\n",
    "b = tf.Variable(tf.random_uniform([1], -1.0, 1.0))\n",
    "\n",
    "# Our hypothesis\n",
    "hypothesis = W * x_data + b"
   ]
  },
  {
   "cell_type": "code",
   "execution_count": 2,
   "metadata": {
    "collapsed": false
   },
   "outputs": [],
   "source": [
    "# Simplified cost function\n",
    "cost = tf.reduce_mean(tf.square(hypothesis - y_data))\n",
    "\n",
    "# Minimize\n",
    "a = tf.Variable(0.1) # Learning rate, alpha\n",
    "optimizer = tf.train.GradientDescentOptimizer(a)\n",
    "train = optimizer.minimize(cost)"
   ]
  },
  {
   "cell_type": "code",
   "execution_count": 3,
   "metadata": {
    "collapsed": false
   },
   "outputs": [
    {
     "name": "stdout",
     "output_type": "stream",
     "text": [
      "WARNING:tensorflow:From <ipython-input-3-4bc63d4d228a>:2 in <module>.: initialize_all_variables (from tensorflow.python.ops.variables) is deprecated and will be removed after 2017-03-02.\n",
      "Instructions for updating:\n",
      "Use `tf.global_variables_initializer` instead.\n"
     ]
    }
   ],
   "source": [
    "# Before starting, initialize the variables. We will 'run' this first.\n",
    "init = tf.initialize_all_variables()\n",
    "\n",
    "# Launch the graph.\n",
    "sess = tf.Session()\n",
    "sess.run(init)"
   ]
  },
  {
   "cell_type": "code",
   "execution_count": 4,
   "metadata": {
    "collapsed": false
   },
   "outputs": [
    {
     "name": "stdout",
     "output_type": "stream",
     "text": [
      "0 0.248218 [ 0.7363081] [ 0.97667521]\n",
      "20 0.0454295 [ 0.75244868] [ 0.56274241]\n",
      "40 0.0171645 [ 0.84783608] [ 0.34590432]\n",
      "60 0.00648522 [ 0.90646845] [ 0.21261919]\n",
      "80 0.00245029 [ 0.94250834] [ 0.13069198]\n",
      "100 0.000925788 [ 0.9646613] [ 0.08033327]\n",
      "120 0.000349788 [ 0.9782781] [ 0.04937897]\n",
      "140 0.000132159 [ 0.98664802] [ 0.03035211]\n",
      "160 4.99332e-05 [ 0.99179292] [ 0.01865674]\n",
      "180 1.88658e-05 [ 0.9949553] [ 0.01146785]\n",
      "200 7.12794e-06 [ 0.99689913] [ 0.00704901]\n",
      "220 2.69342e-06 [ 0.99809396] [ 0.00433287]\n",
      "240 1.01761e-06 [ 0.99882841] [ 0.00266334]\n",
      "260 3.84489e-07 [ 0.99927992] [ 0.00163707]\n",
      "280 1.45248e-07 [ 0.99955732] [ 0.00100624]\n",
      "300 5.49004e-08 [ 0.9997279] [ 0.00061853]\n",
      "320 2.07174e-08 [ 0.99983275] [ 0.0003802]\n",
      "340 7.8429e-09 [ 0.99989718] [ 0.00023373]\n",
      "360 2.96229e-09 [ 0.99993682] [ 0.00014364]\n",
      "380 1.11802e-09 [ 0.9999612] [  8.82914173e-05]\n",
      "400 4.22806e-10 [ 0.9999761] [  5.42929192e-05]\n",
      "420 1.58498e-10 [ 0.99998528] [  3.33677126e-05]\n",
      "440 6.04056e-11 [ 0.99999094] [  2.05407923e-05]\n",
      "460 2.34574e-11 [ 0.99999446] [  1.26491359e-05]\n",
      "480 8.73494e-12 [ 0.99999654] [  7.79334459e-06]\n",
      "500 3.29692e-12 [ 0.99999785] [  4.79721803e-06]\n",
      "520 1.25056e-12 [ 0.99999869] [  2.93755352e-06]\n",
      "540 3.97904e-13 [ 0.99999917] [  1.79314429e-06]\n",
      "560 1.94215e-13 [ 0.99999946] [  1.13352019e-06]\n",
      "580 6.15804e-14 [ 0.99999964] [  7.52050767e-07]\n",
      "600 6.15804e-14 [ 0.9999997] [  6.08999756e-07]\n",
      "620 1.89478e-14 [ 0.99999982] [  4.02370290e-07]\n",
      "640 4.73695e-15 [ 0.99999994] [  1.95740768e-07]\n",
      "660 0.0 [ 1.] [  5.26895647e-08]\n",
      "680 0.0 [ 1.] [  5.26895647e-08]\n",
      "700 0.0 [ 1.] [  5.26895647e-08]\n",
      "720 0.0 [ 1.] [  5.26895647e-08]\n",
      "740 0.0 [ 1.] [  5.26895647e-08]\n",
      "760 0.0 [ 1.] [  5.26895647e-08]\n",
      "780 0.0 [ 1.] [  5.26895647e-08]\n",
      "800 0.0 [ 1.] [  5.26895647e-08]\n",
      "820 0.0 [ 1.] [  5.26895647e-08]\n",
      "840 0.0 [ 1.] [  5.26895647e-08]\n",
      "860 0.0 [ 1.] [  5.26895647e-08]\n",
      "880 0.0 [ 1.] [  5.26895647e-08]\n",
      "900 0.0 [ 1.] [  5.26895647e-08]\n",
      "920 0.0 [ 1.] [  5.26895647e-08]\n",
      "940 0.0 [ 1.] [  5.26895647e-08]\n",
      "960 0.0 [ 1.] [  5.26895647e-08]\n",
      "980 0.0 [ 1.] [  5.26895647e-08]\n",
      "1000 0.0 [ 1.] [  5.26895647e-08]\n"
     ]
    }
   ],
   "source": [
    "# Fit the line.\n",
    "for step in range(1001):\n",
    "    sess.run(train)\n",
    "    if step % 20 ==0:\n",
    "        print(step, sess.run(cost), sess.run(W), sess.run(b))"
   ]
  },
  {
   "cell_type": "markdown",
   "metadata": {},
   "source": [
    "## Placeholder 를 활용한 code"
   ]
  },
  {
   "cell_type": "code",
   "execution_count": 5,
   "metadata": {
    "collapsed": false
   },
   "outputs": [
    {
     "name": "stdout",
     "output_type": "stream",
     "text": [
      "WARNING:tensorflow:From <ipython-input-5-cc0c1369861e>:19 in <module>.: initialize_all_variables (from tensorflow.python.ops.variables) is deprecated and will be removed after 2017-03-02.\n",
      "Instructions for updating:\n",
      "Use `tf.global_variables_initializer` instead.\n",
      "0 0.146514 [ 0.82672679] [ 0.70221245]\n",
      "20 0.023057 [ 0.82364106] [ 0.40090531]\n",
      "40 0.00871157 [ 0.89159632] [ 0.24642704]\n",
      "60 0.00329146 [ 0.93336684] [ 0.15147287]\n",
      "80 0.0012436 [ 0.95904219] [ 0.09310677]\n",
      "100 0.000469866 [ 0.97482419] [ 0.05723052]\n",
      "120 0.00017753 [ 0.98452497] [ 0.03517825]\n",
      "140 6.70759e-05 [ 0.99048793] [ 0.02162322]\n",
      "160 2.53425e-05 [ 0.99415308] [ 0.01329127]\n",
      "180 9.57516e-06 [ 0.99640602] [ 0.00816984]\n",
      "200 3.61755e-06 [ 0.99779087] [ 0.00502179]\n",
      "220 1.36683e-06 [ 0.99864209] [ 0.0030868]\n",
      "240 5.16462e-07 [ 0.99916536] [ 0.0018974]\n",
      "260 1.95093e-07 [ 0.99948698] [ 0.0011663]\n",
      "280 7.37149e-08 [ 0.99968469] [ 0.00071686]\n",
      "300 2.78493e-08 [ 0.99980617] [ 0.0004406]\n",
      "320 1.05287e-08 [ 0.99988085] [ 0.00027088]\n",
      "340 3.98012e-09 [ 0.99992681] [ 0.00016648]\n",
      "360 1.50281e-09 [ 0.999955] [ 0.00010231]\n",
      "380 5.68131e-10 [ 0.99997234] [  6.29236310e-05]\n",
      "400 2.15721e-10 [ 0.99998301] [  3.86446627e-05]\n",
      "420 8.03576e-11 [ 0.99998957] [  2.37832373e-05]\n",
      "440 3.11881e-11 [ 0.9999935] [  1.46200173e-05]\n",
      "460 1.19608e-11 [ 0.99999607] [  9.03307500e-06]\n",
      "480 4.58537e-12 [ 0.99999756] [  5.55216457e-06]\n",
      "500 1.76215e-12 [ 0.99999851] [  3.41434497e-06]\n",
      "520 5.68434e-13 [ 0.99999911] [  2.11893757e-06]\n",
      "540 3.41061e-13 [ 0.9999994] [  1.30831484e-06]\n",
      "560 9.4739e-14 [ 0.99999964] [  8.31478076e-07]\n",
      "580 6.15804e-14 [ 0.9999997] [  6.56637951e-07]\n",
      "600 3.78956e-14 [ 0.99999976] [  4.89744991e-07]\n",
      "620 2.36848e-14 [ 0.99999988] [  2.27484463e-07]\n",
      "640 4.73695e-15 [ 1.] [  1.00327803e-07]\n",
      "660 0.0 [ 1.] [  5.26440900e-08]\n",
      "680 0.0 [ 1.] [  5.26440900e-08]\n",
      "700 0.0 [ 1.] [  5.26440900e-08]\n",
      "720 0.0 [ 1.] [  5.26440900e-08]\n",
      "740 0.0 [ 1.] [  5.26440900e-08]\n",
      "760 0.0 [ 1.] [  5.26440900e-08]\n",
      "780 0.0 [ 1.] [  5.26440900e-08]\n",
      "800 0.0 [ 1.] [  5.26440900e-08]\n",
      "820 0.0 [ 1.] [  5.26440900e-08]\n",
      "840 0.0 [ 1.] [  5.26440900e-08]\n",
      "860 0.0 [ 1.] [  5.26440900e-08]\n",
      "880 0.0 [ 1.] [  5.26440900e-08]\n",
      "900 0.0 [ 1.] [  5.26440900e-08]\n",
      "920 0.0 [ 1.] [  5.26440900e-08]\n",
      "940 0.0 [ 1.] [  5.26440900e-08]\n",
      "960 0.0 [ 1.] [  5.26440900e-08]\n",
      "980 0.0 [ 1.] [  5.26440900e-08]\n",
      "1000 0.0 [ 1.] [  5.26440900e-08]\n"
     ]
    }
   ],
   "source": [
    "W = tf.Variable(tf.random_uniform([1], -1.0, 1.0))\n",
    "b = tf.Variable(tf.random_uniform([1], -1.0, 1.0))\n",
    "\n",
    "X = tf.placeholder(tf.float32)\n",
    "y = tf.placeholder(tf.float32)\n",
    "\n",
    "# hypothesis\n",
    "hypothesis = W * X + b\n",
    "\n",
    "# Simplified cost function\n",
    "cost = tf.reduce_mean(tf.square(hypothesis - y))\n",
    "\n",
    "# Minimize\n",
    "a = tf.Variable(0.1)\n",
    "optimizer = tf.train.GradientDescentOptimizer(a)\n",
    "train = optimizer.minimize(cost)\n",
    "\n",
    "# before starting, initialize the variables.\n",
    "init = tf.initialize_all_variables()\n",
    "\n",
    "# Launch the graph.\n",
    "sess = tf.Session()\n",
    "sess.run(init)\n",
    "\n",
    "# Fit the line.\n",
    "for step in range(1001):\n",
    "    sess.run(train, feed_dict={X: x_data, y:y_data})\n",
    "    if step % 20 == 0:\n",
    "        print(step, sess.run(cost, feed_dict={X:x_data, y:y_data}), sess.run(W), sess.run(b))"
   ]
  },
  {
   "cell_type": "code",
   "execution_count": 6,
   "metadata": {
    "collapsed": false
   },
   "outputs": [
    {
     "name": "stdout",
     "output_type": "stream",
     "text": [
      "[ 5.]\n",
      "[ 2.5]\n"
     ]
    }
   ],
   "source": [
    "# Predict\n",
    "print(sess.run(hypothesis, feed_dict={X: 5}))\n",
    "print(sess.run(hypothesis, feed_dict={X: 2.5}))"
   ]
  }
 ],
 "metadata": {
  "kernelspec": {
   "display_name": "Python 3",
   "language": "python",
   "name": "python3"
  },
  "language_info": {
   "codemirror_mode": {
    "name": "ipython",
    "version": 3
   },
   "file_extension": ".py",
   "mimetype": "text/x-python",
   "name": "python",
   "nbconvert_exporter": "python",
   "pygments_lexer": "ipython3",
   "version": "3.5.1"
  }
 },
 "nbformat": 4,
 "nbformat_minor": 2
}
